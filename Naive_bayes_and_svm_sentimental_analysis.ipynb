{
  "nbformat": 4,
  "nbformat_minor": 0,
  "metadata": {
    "colab": {
      "provenance": [],
      "authorship_tag": "ABX9TyM2vUlO7BS5m7I0E+6CcJO2",
      "include_colab_link": true
    },
    "kernelspec": {
      "name": "python3",
      "display_name": "Python 3"
    },
    "language_info": {
      "name": "python"
    }
  },
  "cells": [
    {
      "cell_type": "markdown",
      "metadata": {
        "id": "view-in-github",
        "colab_type": "text"
      },
      "source": [
        "<a href=\"https://colab.research.google.com/github/ak5605/Language-Models/blob/main/Naive_bayes_and_svm_sentimental_analysis.ipynb\" target=\"_parent\"><img src=\"https://colab.research.google.com/assets/colab-badge.svg\" alt=\"Open In Colab\"/></a>"
      ]
    },
    {
      "cell_type": "code",
      "source": [
        "!pip install datasets transformers[sentencepiece] sacrebleu -q"
      ],
      "metadata": {
        "colab": {
          "base_uri": "https://localhost:8080/"
        },
        "id": "iXontIf-J11p",
        "outputId": "f690f26d-e390-4c98-b66a-ffa2d6d1cc2c"
      },
      "execution_count": 3,
      "outputs": [
        {
          "output_type": "stream",
          "name": "stdout",
          "text": [
            "\u001b[?25l     \u001b[90m━━━━━━━━━━━━━━━━━━━━━━━━━━━━━━━━━━━━━━━━\u001b[0m \u001b[32m0.0/521.2 kB\u001b[0m \u001b[31m?\u001b[0m eta \u001b[36m-:--:--\u001b[0m\r\u001b[2K     \u001b[91m━━━━\u001b[0m\u001b[91m╸\u001b[0m\u001b[90m━━━━━━━━━━━━━━━━━━━━━━━━━━━━━━━━━━━\u001b[0m \u001b[32m61.4/521.2 kB\u001b[0m \u001b[31m1.9 MB/s\u001b[0m eta \u001b[36m0:00:01\u001b[0m\r\u001b[2K     \u001b[91m━━━━━━━━━━━━━━━━━━━━━━━━━━━━\u001b[0m\u001b[90m╺\u001b[0m\u001b[90m━━━━━━━━━━━\u001b[0m \u001b[32m368.6/521.2 kB\u001b[0m \u001b[31m5.5 MB/s\u001b[0m eta \u001b[36m0:00:01\u001b[0m\r\u001b[2K     \u001b[90m━━━━━━━━━━━━━━━━━━━━━━━━━━━━━━━━━━━━━━━━\u001b[0m \u001b[32m521.2/521.2 kB\u001b[0m \u001b[31m5.6 MB/s\u001b[0m eta \u001b[36m0:00:00\u001b[0m\n",
            "\u001b[2K     \u001b[90m━━━━━━━━━━━━━━━━━━━━━━━━━━━━━━━━━━━━━━━━\u001b[0m \u001b[32m119.7/119.7 kB\u001b[0m \u001b[31m6.5 MB/s\u001b[0m eta \u001b[36m0:00:00\u001b[0m\n",
            "\u001b[2K     \u001b[90m━━━━━━━━━━━━━━━━━━━━━━━━━━━━━━━━━━━━━━━━\u001b[0m \u001b[32m115.3/115.3 kB\u001b[0m \u001b[31m7.3 MB/s\u001b[0m eta \u001b[36m0:00:00\u001b[0m\n",
            "\u001b[2K     \u001b[90m━━━━━━━━━━━━━━━━━━━━━━━━━━━━━━━━━━━━━━━━\u001b[0m \u001b[32m134.8/134.8 kB\u001b[0m \u001b[31m7.7 MB/s\u001b[0m eta \u001b[36m0:00:00\u001b[0m\n",
            "\u001b[2K     \u001b[90m━━━━━━━━━━━━━━━━━━━━━━━━━━━━━━━━━━━━━━━━\u001b[0m \u001b[32m1.3/1.3 MB\u001b[0m \u001b[31m14.3 MB/s\u001b[0m eta \u001b[36m0:00:00\u001b[0m\n",
            "\u001b[?25h"
          ]
        }
      ]
    },
    {
      "cell_type": "code",
      "source": [
        "# Import necessary libraries\n",
        "from sklearn.model_selection import train_test_split\n",
        "from sklearn.feature_extraction.text import CountVectorizer\n",
        "from sklearn.naive_bayes import MultinomialNB\n",
        "from sklearn.metrics import accuracy_score, classification_report\n",
        "from datasets import load_dataset\n",
        "\n",
        "# Load the dataset from HuggingFace\n",
        "dataset = load_dataset(\"carblacac/twitter-sentiment-analysis\")\n",
        "\n",
        "# Print the features of the dataset to identify column names\n",
        "print(dataset['train'].features)\n",
        "\n",
        "# Assuming you have loaded the dataset into 'dataset'\n",
        "train_data = dataset['train']\n",
        "\n",
        "\n",
        "train_texts = train_data['text']\n",
        "train_labels = train_data['feeling']\n",
        "\n",
        "# Split the dataset into training and testing sets\n",
        "train_texts, test_texts, train_labels, test_labels = train_test_split(train_texts, train_labels, test_size=0.2, random_state=42)\n",
        "\n",
        "# Create a Bag-of-Words representation of the text data\n",
        "vectorizer = CountVectorizer()\n",
        "X_train = vectorizer.fit_transform(train_texts)\n",
        "X_test = vectorizer.transform(test_texts)\n",
        "\n",
        "# Train a Naive Bayes classifier\n",
        "naive_bayes_model = MultinomialNB()\n",
        "naive_bayes_model.fit(X_train, train_labels)\n",
        "\n",
        "# Make predictions on the test set\n",
        "predictions_nb = naive_bayes_model.predict(X_test)\n",
        "\n",
        "# Evaluate the model\n",
        "accuracy_nb = accuracy_score(test_labels, predictions_nb)\n",
        "report_nb = classification_report(test_labels, predictions_nb)\n",
        "\n",
        "print(f'Naive Bayes Accuracy: {accuracy_nb}')\n",
        "print('Naive Bayes Classification Report:\\n', report_nb)\n"
      ],
      "metadata": {
        "colab": {
          "base_uri": "https://localhost:8080/"
        },
        "id": "YnJQAyCrMqHd",
        "outputId": "61430424-174b-40ea-b14b-3897f218e87a"
      },
      "execution_count": 9,
      "outputs": [
        {
          "output_type": "stream",
          "name": "stdout",
          "text": [
            "{'text': Value(dtype='string', id=None), 'feeling': Value(dtype='int32', id=None)}\n",
            "Naive Bayes Accuracy: 0.7638136511375948\n",
            "Naive Bayes Classification Report:\n",
            "               precision    recall  f1-score   support\n",
            "\n",
            "           0       0.73      0.83      0.78     11954\n",
            "           1       0.80      0.70      0.75     12044\n",
            "\n",
            "    accuracy                           0.76     23998\n",
            "   macro avg       0.77      0.76      0.76     23998\n",
            "weighted avg       0.77      0.76      0.76     23998\n",
            "\n"
          ]
        }
      ]
    },
    {
      "cell_type": "code",
      "source": [
        "# Get input text for prediction\n",
        "new_input_text = \"the product is good\"\n",
        "\n",
        "# Transform the new input using the same vectorizer\n",
        "new_input_transformed = vectorizer.transform([new_input_text])\n",
        "\n",
        "# Make predictions on the new input\n",
        "new_prediction = naive_bayes_model.predict(new_input_transformed)\n",
        "\n",
        "# Display the prediction\n",
        "print(f'Predicted Feeling: {new_prediction[0]}')\n",
        "\n"
      ],
      "metadata": {
        "colab": {
          "base_uri": "https://localhost:8080/"
        },
        "id": "aqVMnzEiOd9J",
        "outputId": "b9323263-b3b9-4655-a5d1-986011e964ef"
      },
      "execution_count": 18,
      "outputs": [
        {
          "output_type": "stream",
          "name": "stdout",
          "text": [
            "Predicted Feeling: 1\n"
          ]
        }
      ]
    },
    {
      "cell_type": "markdown",
      "source": [
        "#SVM"
      ],
      "metadata": {
        "id": "VyDMh-3SPIWh"
      }
    },
    {
      "cell_type": "code",
      "source": [
        "# Import necessary libraries\n",
        "from sklearn.model_selection import train_test_split\n",
        "from sklearn.feature_extraction.text import TfidfVectorizer\n",
        "from sklearn.svm import SVC\n",
        "from sklearn.metrics import accuracy_score, classification_report\n",
        "from datasets import load_dataset\n",
        "\n",
        "# Load the dataset from HuggingFace\n",
        "dataset = load_dataset(\"carblacac/twitter-sentiment-analysis\")\n",
        "\n",
        "# Print the features of the dataset to identify column names\n",
        "print(dataset['train'].features)\n",
        "\n",
        "# Assuming you have loaded the dataset into 'dataset'\n",
        "train_data = dataset['train']\n",
        "\n",
        "\n",
        "train_texts = train_data['text']\n",
        "train_labels = train_data['feeling']\n",
        "\n",
        "# Split the dataset into training and testing sets\n",
        "train_texts, test_texts, train_labels, test_labels = train_test_split(train_texts, train_labels, test_size=0.2, random_state=42)\n",
        "\n",
        "# Create a TF-IDF representation of the text data\n",
        "tfidf_vectorizer = TfidfVectorizer()\n",
        "X_train_tfidf = tfidf_vectorizer.fit_transform(train_texts)\n",
        "X_test_tfidf = tfidf_vectorizer.transform(test_texts)\n",
        "\n",
        "# Train an SVM classifier\n",
        "svm_model = SVC(kernel='rbf')\n",
        "svm_model.fit(X_train_tfidf, train_labels)\n",
        "\n",
        "# Make predictions on the test set\n",
        "predictions_svm = svm_model.predict(X_test_tfidf)\n",
        "\n",
        "# Evaluate the model\n",
        "accuracy_svm = accuracy_score(test_labels, predictions_svm)\n",
        "report_svm = classification_report(test_labels, predictions_svm)\n",
        "\n",
        "print(f'SVM Accuracy: {accuracy_svm}')\n",
        "print('SVM Classification Report:\\n', report_svm)\n"
      ],
      "metadata": {
        "colab": {
          "base_uri": "https://localhost:8080/"
        },
        "id": "OR933_LRPLfD",
        "outputId": "0f656581-9701-4c64-a138-bb5f5e0e7a7c"
      },
      "execution_count": 4,
      "outputs": [
        {
          "output_type": "stream",
          "name": "stdout",
          "text": [
            "{'text': Value(dtype='string', id=None), 'feeling': Value(dtype='int32', id=None)}\n",
            "SVM Accuracy: 0.7909409117426452\n",
            "SVM Classification Report:\n",
            "               precision    recall  f1-score   support\n",
            "\n",
            "           0       0.79      0.79      0.79     11954\n",
            "           1       0.79      0.79      0.79     12044\n",
            "\n",
            "    accuracy                           0.79     23998\n",
            "   macro avg       0.79      0.79      0.79     23998\n",
            "weighted avg       0.79      0.79      0.79     23998\n",
            "\n"
          ]
        }
      ]
    },
    {
      "cell_type": "code",
      "source": [
        "\n",
        "\n",
        "# Example custom input\n",
        "custom_input = \"this product is not good\"\n",
        "\n",
        "# Preprocess the custom input using the same TF-IDF vectorizer\n",
        "custom_input_tfidf = tfidf_vectorizer.transform([custom_input])\n",
        "\n",
        "# Make predictions using the trained SVM model\n",
        "prediction_svm = svm_model.predict(custom_input_tfidf)\n",
        "\n",
        "# Interpret the prediction\n",
        "sentiment_label_svm = \"Positive\" if prediction_svm == 1 else \"Negative\"\n",
        "\n",
        "# Print the result\n",
        "print(f\"Predicted Sentiment (SVM): {sentiment_label_svm}\")\n"
      ],
      "metadata": {
        "colab": {
          "base_uri": "https://localhost:8080/"
        },
        "id": "F9XbsNkipJoC",
        "outputId": "c38be492-6b45-4a93-907c-9355d3707474"
      },
      "execution_count": 7,
      "outputs": [
        {
          "output_type": "stream",
          "name": "stdout",
          "text": [
            "Predicted Sentiment (SVM): Negative\n"
          ]
        }
      ]
    }
  ]
}