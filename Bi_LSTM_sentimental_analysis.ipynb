{
  "nbformat": 4,
  "nbformat_minor": 0,
  "metadata": {
    "colab": {
      "provenance": [],
      "authorship_tag": "ABX9TyOo3TaleDxcBSapumDX/fM3",
      "include_colab_link": true
    },
    "kernelspec": {
      "name": "python3",
      "display_name": "Python 3"
    },
    "language_info": {
      "name": "python"
    }
  },
  "cells": [
    {
      "cell_type": "markdown",
      "metadata": {
        "id": "view-in-github",
        "colab_type": "text"
      },
      "source": [
        "<a href=\"https://colab.research.google.com/github/ak5605/Language-Models/blob/main/Bi_LSTM_sentimental_analysis.ipynb\" target=\"_parent\"><img src=\"https://colab.research.google.com/assets/colab-badge.svg\" alt=\"Open In Colab\"/></a>"
      ]
    },
    {
      "cell_type": "code",
      "source": [
        "!pip install datasets transformers[sentencepiece] sacrebleu -q"
      ],
      "metadata": {
        "colab": {
          "base_uri": "https://localhost:8080/"
        },
        "id": "ZmgV0sJ6j-_4",
        "outputId": "8f4c009f-1f2c-4449-8ba1-e156aa326923"
      },
      "execution_count": 2,
      "outputs": [
        {
          "output_type": "stream",
          "name": "stdout",
          "text": [
            "\u001b[2K     \u001b[90m━━━━━━━━━━━━━━━━━━━━━━━━━━━━━━━━━━━━━━━━\u001b[0m \u001b[32m521.2/521.2 kB\u001b[0m \u001b[31m5.6 MB/s\u001b[0m eta \u001b[36m0:00:00\u001b[0m\n",
            "\u001b[2K     \u001b[90m━━━━━━━━━━━━━━━━━━━━━━━━━━━━━━━━━━━━━━━━\u001b[0m \u001b[32m119.7/119.7 kB\u001b[0m \u001b[31m7.3 MB/s\u001b[0m eta \u001b[36m0:00:00\u001b[0m\n",
            "\u001b[2K     \u001b[90m━━━━━━━━━━━━━━━━━━━━━━━━━━━━━━━━━━━━━━━━\u001b[0m \u001b[32m115.3/115.3 kB\u001b[0m \u001b[31m9.7 MB/s\u001b[0m eta \u001b[36m0:00:00\u001b[0m\n",
            "\u001b[2K     \u001b[90m━━━━━━━━━━━━━━━━━━━━━━━━━━━━━━━━━━━━━━━━\u001b[0m \u001b[32m134.8/134.8 kB\u001b[0m \u001b[31m7.5 MB/s\u001b[0m eta \u001b[36m0:00:00\u001b[0m\n",
            "\u001b[2K     \u001b[90m━━━━━━━━━━━━━━━━━━━━━━━━━━━━━━━━━━━━━━━━\u001b[0m \u001b[32m1.3/1.3 MB\u001b[0m \u001b[31m14.0 MB/s\u001b[0m eta \u001b[36m0:00:00\u001b[0m\n",
            "\u001b[?25h"
          ]
        }
      ]
    },
    {
      "cell_type": "code",
      "source": [
        "# Import necessary libraries\n",
        "import numpy as np\n",
        "import tensorflow as tf\n",
        "from tensorflow.keras.preprocessing.text import Tokenizer\n",
        "from tensorflow.keras.preprocessing.sequence import pad_sequences\n",
        "from tensorflow.keras.models import Sequential\n",
        "from tensorflow.keras.layers import Embedding, Bidirectional, LSTM, Dense\n",
        "from sklearn.model_selection import train_test_split\n",
        "from sklearn.metrics import accuracy_score, classification_report\n",
        "from datasets import load_dataset\n",
        "\n",
        "# Load the dataset from HuggingFace\n",
        "dataset = load_dataset(\"carblacac/twitter-sentiment-analysis\")\n",
        "\n",
        "# Print the features of the dataset to identify column names\n",
        "print(dataset['train'].features)\n",
        "\n",
        "# Assuming you have loaded the dataset into 'dataset'\n",
        "train_data = dataset['train']\n",
        "\n",
        "# Identify the correct column names and extract features and labels\n",
        "feature_column_name = 'text'\n",
        "target_column_name = 'feeling'\n",
        "\n",
        "train_texts = train_data[feature_column_name]\n",
        "train_labels = train_data[target_column_name]\n",
        "\n",
        "# Convert labels to NumPy array\n",
        "train_labels = np.array(train_labels)\n",
        "\n",
        "# Split the dataset into training and testing sets\n",
        "train_texts, test_texts, train_labels, test_labels = train_test_split(train_texts, train_labels, test_size=0.2, random_state=42)\n",
        "\n",
        "# Tokenize and pad the text data\n",
        "tokenizer = Tokenizer()\n",
        "tokenizer.fit_on_texts(train_texts)\n",
        "\n",
        "X_train_seq = pad_sequences(tokenizer.texts_to_sequences(train_texts), maxlen=100, padding='post')\n",
        "X_test_seq = pad_sequences(tokenizer.texts_to_sequences(test_texts), maxlen=100, padding='post')\n",
        "\n",
        "# Build a Bi-LSTM model\n",
        "model = Sequential()\n",
        "model.add(Embedding(input_dim=len(tokenizer.word_index) + 1, output_dim=100, input_length=100))\n",
        "model.add(Bidirectional(LSTM(64)))\n",
        "model.add(Dense(1, activation='sigmoid'))\n",
        "\n",
        "model.compile(optimizer='adam', loss='binary_crossentropy', metrics=['accuracy'])\n",
        "\n",
        "# Train the Bi-LSTM model\n",
        "model.fit(X_train_seq, train_labels, epochs=5, batch_size=32, validation_split=0.1)\n",
        "\n",
        "# Evaluate the model\n",
        "accuracy_lstm = model.evaluate(X_test_seq, test_labels)[1]\n",
        "\n",
        "print(f'Bi-LSTM Accuracy: {accuracy_lstm}')\n"
      ],
      "metadata": {
        "colab": {
          "base_uri": "https://localhost:8080/"
        },
        "id": "F5Ne2xpFlP4J",
        "outputId": "2be35003-3ec4-4b09-c5d2-d8981c472fe6"
      },
      "execution_count": 8,
      "outputs": [
        {
          "output_type": "stream",
          "name": "stdout",
          "text": [
            "{'text': Value(dtype='string', id=None), 'feeling': Value(dtype='int32', id=None)}\n",
            "Epoch 1/5\n",
            "2700/2700 [==============================] - 871s 321ms/step - loss: 0.4840 - accuracy: 0.7672 - val_loss: 0.4532 - val_accuracy: 0.7844\n",
            "Epoch 2/5\n",
            "2700/2700 [==============================] - 866s 321ms/step - loss: 0.2964 - accuracy: 0.8750 - val_loss: 0.4889 - val_accuracy: 0.7684\n",
            "Epoch 3/5\n",
            "2700/2700 [==============================] - 870s 322ms/step - loss: 0.1722 - accuracy: 0.9313 - val_loss: 0.5711 - val_accuracy: 0.7646\n",
            "Epoch 4/5\n",
            "2700/2700 [==============================] - 868s 321ms/step - loss: 0.1090 - accuracy: 0.9564 - val_loss: 0.6732 - val_accuracy: 0.7581\n",
            "Epoch 5/5\n",
            "2700/2700 [==============================] - 870s 322ms/step - loss: 0.0721 - accuracy: 0.9714 - val_loss: 0.8176 - val_accuracy: 0.7464\n",
            "750/750 [==============================] - 22s 29ms/step - loss: 0.8122 - accuracy: 0.7525\n",
            "Bi-LSTM Accuracy: 0.7524793744087219\n"
          ]
        }
      ]
    },
    {
      "cell_type": "code",
      "source": [
        "\n",
        "\n",
        "# Define a function for preprocessing the custom input\n",
        "def preprocess_input(text, tokenizer):\n",
        "    sequence = tokenizer.texts_to_sequences([text])\n",
        "    padded_sequence = pad_sequences(sequence, maxlen=100, padding='post')\n",
        "    return padded_sequence\n",
        "\n",
        "# Example custom input\n",
        "custom_input = \"nlp text book is good\"\n",
        "\n",
        "# Preprocess the custom input\n",
        "custom_input_seq = preprocess_input(custom_input, tokenizer)\n",
        "\n",
        "# Make predictions using the trained model\n",
        "prediction = model.predict(custom_input_seq)\n",
        "\n",
        "# Interpret the prediction\n",
        "sentiment_label = \"Positive\" if prediction > 0.5 else \"Negative\"\n",
        "\n",
        "# Print the result\n",
        "print(f\"Predicted Sentiment: {sentiment_label} (Confidence: {prediction[0][0]:.2f})\")\n"
      ],
      "metadata": {
        "colab": {
          "base_uri": "https://localhost:8080/"
        },
        "id": "rFDrF5wh5aBP",
        "outputId": "27a1d14b-2ed7-45ec-8985-c56aae0ca65e"
      },
      "execution_count": 9,
      "outputs": [
        {
          "output_type": "stream",
          "name": "stdout",
          "text": [
            "1/1 [==============================] - 1s 1s/step\n",
            "Predicted Sentiment: Positive (Confidence: 1.00)\n"
          ]
        }
      ]
    }
  ]
}